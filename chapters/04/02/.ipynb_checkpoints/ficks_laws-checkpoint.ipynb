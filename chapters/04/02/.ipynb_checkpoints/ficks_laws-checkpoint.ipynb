{
 "cells": [
  {
   "cell_type": "markdown",
   "id": "754826ae-7c74-457a-8e39-928cd8c4c724",
   "metadata": {},
   "source": [
    "# Fick's Laws \n",
    "**Fick's Laws** describe the diffusion process, which is the movement of particles from areas of higher concentration to areas of lower concentration. Fick's laws provide a mathematical framework for understanding and modeling diffusion in various systems.\n",
    "\n",
    "```{admonition} Flick's $1^{\\text {st}}$ Law\n",
    "It relates the diffusion flux to the concentration gradient. It states that the flux \"J\" (the amount of substance that flows per unit area per unit time) is proportional to the negative gradient of concentration \"c\":\n",
    "\n",
    "$$\n",
    "J = -D \\frac{\\partialc}{\\partialx}\n",
    "$$\n",
    "\n",
    "Where  D is the diffusion coefficient. This law applies to steady-state diffusion, where concentration does not change with time.\n",
    "```\n",
    "\n",
    "```{admonition} Flick's $2^{\\text {nd }}$ Law\n",
    "\n",
    "It describes how the concentration of a substance changes over time due to diffusion. It is derived by combining Fick’s First Law with the continuity equation:\n",
    "\n",
    "$$\n",
    "\\frac{\\partial c}{\\partial t} = D \\frac{\\partial^2 c}{\\partial x^2}\n",
    "$$\n",
    "\n",
    "This law applies to non-steady-state diffusion, where concentration varies with both position and time.\n",
    "```\n",
    "\n"
   ]
  },
  {
   "cell_type": "code",
   "execution_count": null,
   "id": "71ab5d0d-6aef-49f3-be51-e35941b59989",
   "metadata": {},
   "outputs": [],
   "source": []
  }
 ],
 "metadata": {
  "kernelspec": {
   "display_name": "Python 3 (ipykernel)",
   "language": "python",
   "name": "python3"
  },
  "language_info": {
   "codemirror_mode": {
    "name": "ipython",
    "version": 3
   },
   "file_extension": ".py",
   "mimetype": "text/x-python",
   "name": "python",
   "nbconvert_exporter": "python",
   "pygments_lexer": "ipython3",
   "version": "3.9.19"
  }
 },
 "nbformat": 4,
 "nbformat_minor": 5
}
