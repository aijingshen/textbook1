{
 "cells": [
  {
   "cell_type": "markdown",
   "id": "9c0052ca-d44d-4dd5-91fe-c4db67a59d03",
   "metadata": {},
   "source": [
    "# Normal distribution\n",
    "The normal distribution, also known as the Gaussian distribution, is a continuous probability distribution that is symmetric about its mean. It's characterized by its bell-shaped curve, which is defined by two parameters: the mean (μ) and the standard deviation (σ). \n",
    "\n",
    "### Mathematical Formula:\n",
    "The probability density function (pdf) of the normal distribution is given by:\n",
    "\n",
    "$$\n",
    "f(x) = \\frac{1}{\\sigma \\sqrt{2\\pi}} e^{-\\frac{(x - \\mu)^2}{2\\sigma^2}}\n",
    "$$\n",
    "\n",
    "Where:\n",
    "-  x  is a variable,\n",
    "-  \\mu  is the mean,\n",
    "-  \\sigma  is the standard deviation,\n",
    "-  e  is the base of the natural logarithm,\n",
    "-  \\pi  is a constant (approximately 3.14159).\n",
    "\n",
    "### Key Features:\n",
    "- **Mean (μ):** The peak of the curve is at the mean, which is also the center of the distribution. The mean represents the average value of the data set.\n",
    "- **Standard Deviation (σ):** This measures the spread or dispersion of the data. A smaller standard deviation results in a narrower, taller curve, while a larger standard deviation produces a wider, flatter curve.\n",
    "- **Total Area:** The total area under the curve is equal to 1, which represents the entirety of the probability.\n"
   ]
  },
  {
   "cell_type": "code",
   "execution_count": null,
   "id": "bfb18fb9-07cc-499b-b1c9-90e0ab73a536",
   "metadata": {},
   "outputs": [],
   "source": []
  }
 ],
 "metadata": {
  "kernelspec": {
   "display_name": "Python 3 (ipykernel)",
   "language": "python",
   "name": "python3"
  },
  "language_info": {
   "codemirror_mode": {
    "name": "ipython",
    "version": 3
   },
   "file_extension": ".py",
   "mimetype": "text/x-python",
   "name": "python",
   "nbconvert_exporter": "python",
   "pygments_lexer": "ipython3",
   "version": "3.9.19"
  }
 },
 "nbformat": 4,
 "nbformat_minor": 5
}
