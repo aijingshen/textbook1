{
 "cells": [
  {
   "cell_type": "markdown",
   "id": "ddef76a4-fd02-4ce5-8eaa-5c068c572fdf",
   "metadata": {},
   "source": [
    "# Introduction to Pharmacokinetic modeling\n",
    "\n",
    "Pharmacokinetic modeling uses mathematical representations of how a drug moves through and is processed by the body. These models include drug administration, distribution, and elimination and are used to help predict drug behavior. \n",
    "\n",
    "## Absorption\n",
    "Drugs can enter the body via different routes. They can be taken orally, injected into muscle or blood, or delivered via a patch. The type of delivery will impact how the compound is absorbed and where it travels and is metabolized in the body. \n",
    "\n",
    "## Distribution\n",
    "After absorption, the drug spreads throughout the body's compartments. However, different drugs will spread **very differently**. For example, some drugs will spread throughput the entire body, while others will be concentrated in specific organs. This is often described using a simple concept called **volume of distribution (Vd)**, which relates the total amount of drug in the body to its concentration in the plasma or blood. \n",
    "\n",
    "$$\n",
    "V_d = \\frac{\\text{Amount of drug in the body}}{\\text{Amount of drug in the plasma}}\n",
    "$$\n",
    "\n",
    "The higher the Vd, the more extensively the drug is distributed into tissues.\n",
    "\n",
    "## Metabolism \n",
    "Metabolism describes how the drug is chemically altered. Typically this involves transforming it into more water-soluble forms for excretion. Metabolic processes often follow **Michaelis-Menten kinetics**, but in many cases, they are simplified to follow **first-order kinetics**, where the rate of metabolism is proportional to the drug concentration. We will discuss reaction rates in later sections of the course. \n",
    "\n",
    "## Excretion\n",
    "This phase describes how the drug and its metabolites are removed from the body, typically through the kidneys (urine) or liver (bile). **Clearance (CL)** is the primary measure of excretion\n",
    "\n",
    "$$\n",
    "CL = k \\times V_d\n",
    "$$\n",
    "\n",
    "Where k is the elimination rate constant, and $V_d$ is the volume of distribution."
   ]
  },
  {
   "cell_type": "code",
   "execution_count": null,
   "id": "cb5f7dca-f8ac-43ad-b4da-8916f01fb996",
   "metadata": {},
   "outputs": [],
   "source": []
  }
 ],
 "metadata": {
  "kernelspec": {
   "display_name": "Python 3 (ipykernel)",
   "language": "python",
   "name": "python3"
  },
  "language_info": {
   "codemirror_mode": {
    "name": "ipython",
    "version": 3
   },
   "file_extension": ".py",
   "mimetype": "text/x-python",
   "name": "python",
   "nbconvert_exporter": "python",
   "pygments_lexer": "ipython3",
   "version": "3.9.19"
  }
 },
 "nbformat": 4,
 "nbformat_minor": 5
}