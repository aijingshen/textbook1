{
 "cells": [
  {
   "cell_type": "markdown",
   "id": "e4e4f2aa-8f7b-4b4d-8690-bb2d7696988f",
   "metadata": {},
   "source": [
    "# Data types"
   ]
  },
  {
   "cell_type": "markdown",
   "id": "f0ea6492-91e3-40da-8ffa-a87f4c8076d9",
   "metadata": {},
   "source": [
    "## Binary, Discrete, Continuous "
   ]
  },
  {
   "cell_type": "markdown",
   "id": "2e600ca7-d8d9-4dc5-9488-cd9a739cf3ef",
   "metadata": {},
   "source": [
    "## Random Variables"
   ]
  }
 ],
 "metadata": {
  "kernelspec": {
   "display_name": "Python 3 (ipykernel)",
   "language": "python",
   "name": "python3"
  },
  "language_info": {
   "codemirror_mode": {
    "name": "ipython",
    "version": 3
   },
   "file_extension": ".py",
   "mimetype": "text/x-python",
   "name": "python",
   "nbconvert_exporter": "python",
   "pygments_lexer": "ipython3",
   "version": "3.9.19"
  }
 },
 "nbformat": 4,
 "nbformat_minor": 5
}
