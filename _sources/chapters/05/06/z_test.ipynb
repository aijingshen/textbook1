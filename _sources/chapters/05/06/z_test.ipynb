{
 "cells": [
  {
   "cell_type": "markdown",
   "id": "8aba435f-7f47-4067-bd8c-8c5943dcd8d2",
   "metadata": {},
   "source": [
    "# z-tests \n",
    "The normal distribution has normalized for any variance and mean\n",
    "\n",
    "$$\n",
    "N(x) = \\frac{1}{\\sigma \\sqrt{2\\pi}} e^{-\\frac{(x - \\mu)^2}{2\\sigma^2}}\n",
    "$$"
   ]
  },
  {
   "cell_type": "markdown",
   "id": "48c610df-1ca5-41c7-ab50-1a60c128ff6b",
   "metadata": {},
   "source": [
    "We can re-arrange the exponent and show that, for any distribution, all we need to know is Z = $\\frac{x - \\mu}{\\sigma}$\n",
    "\n",
    "$$\n",
    "\\frac{(x - \\mu)^2}{2\\sigma^2}\n",
    "$$\n",
    "\n",
    "$$\n",
    "\\frac{1}{2} \\left( \\frac{x - \\mu}{\\sigma} \\right)^2 = \\frac{1}{2} Z^2\n",
    "$$\n",
    "\n",
    "Can be rewritten using \\( Z \\):\n",
    "$$\n",
    "f(Z) = \\frac{1}{\\sigma \\sqrt{2\\pi}} e^{-\\frac{1}{2} Z^2}\n",
    "$$"
   ]
  },
  {
   "cell_type": "code",
   "execution_count": null,
   "id": "5de7fac2-0572-4ca6-9bba-e5aad9e84cb7",
   "metadata": {},
   "outputs": [],
   "source": []
  },
  {
   "cell_type": "code",
   "execution_count": null,
   "id": "13268b21-ea9b-40d1-9e1d-a3eb9c0d1213",
   "metadata": {},
   "outputs": [],
   "source": [
    "### Using this distribution to find the probability of x given $\\bar{X}$\n",
    "\n",
    "So, if we have an unknown population, and we calculate $\\bar{X}$ with a large enough sample size, the CLT holds. Can we make a statement about the \n",
    "\n"
   ]
  },
  {
   "cell_type": "code",
   "execution_count": null,
   "id": "0ff2eb77-a410-4f70-876e-5b2da9e23f92",
   "metadata": {},
   "outputs": [],
   "source": [
    "- The central limit theorem says that the distribution of the sample means is normally distributed\n",
    "\n",
    "$$\n",
    "\\bar{X} \\sim N\\left( \\mu, \\frac{\\sigma^2}{n} \\right)\n",
    "$$\n",
    "\n",
    "- The normal distribution is a defined probability density function. We can use it to calculate the probability of finding a mean, $\\bar{X}$  by chance.\n",
    "\n",
    "$$\n",
    "P(\\bar{X}) = \\frac{1}{\\sigma \\sqrt{2\\pi}} e^{-\\frac{(\\bar{X} - \\mu)^2}{2\\sigma^2}}\n",
    "$$"
   ]
  }
 ],
 "metadata": {
  "kernelspec": {
   "display_name": "Python 3 (ipykernel)",
   "language": "python",
   "name": "python3"
  },
  "language_info": {
   "codemirror_mode": {
    "name": "ipython",
    "version": 3
   },
   "file_extension": ".py",
   "mimetype": "text/x-python",
   "name": "python",
   "nbconvert_exporter": "python",
   "pygments_lexer": "ipython3",
   "version": "3.9.19"
  }
 },
 "nbformat": 4,
 "nbformat_minor": 5
}
