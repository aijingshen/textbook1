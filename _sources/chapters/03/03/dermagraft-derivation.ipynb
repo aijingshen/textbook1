{
 "cells": [
  {
   "cell_type": "markdown",
   "id": "5316ec2a-3e09-48a3-9df5-669577f70335",
   "metadata": {},
   "source": [
    "# Consider the problem of growing an artificial layer of skin in a dish"
   ]
  },
  {
   "cell_type": "markdown",
   "id": "901fa83b-1bcb-4c7e-89a5-3742bc0b1cbe",
   "metadata": {},
   "source": [
    "## Derivation of the Dimensionless Equation for the 1D Reaction-Diffusion System\n",
    "\n",
    "Consider the steady-state 1D reaction-diffusion equation with a constant reaction rate  R :\n",
    "\n",
    "$$\n",
    "D \\frac{d^2 C(x)}{dx^2} = R\n",
    "$$\n",
    "\n",
    "where:\n",
    "-  C(x)  is the concentration of the substance at position  x ,\n",
    "-  D  is the diffusion coefficient,\n",
    "-  R  is the constant reaction rate.\n"
   ]
  },
  {
   "cell_type": "markdown",
   "id": "e5e767d3-8c3a-4039-9d9a-3e6499b79fb6",
   "metadata": {},
   "source": [
    "## Solve the Steady-State Equation\n",
    "\n",
    "We begin by solving the steady-state equation. The equation can be rewritten as:\n",
    "\n",
    "$$\n",
    "\\frac{d^2 C(x)}{dx^2} = \\frac{R}{D}\n",
    "$$\n",
    "\n",
    "This is a second-order ordinary differential equation (ODE). Integrating with respect to  x , we obtain:\n",
    "\n",
    "$$\n",
    "\\frac{dC(x)}{dx} = \\frac{R}{D}x + C_1\n",
    "$$\n",
    "\n",
    "where  $C_1$  is an integration constant. Integrating again with respect to  x , we get:\n",
    "\n",
    "$$\n",
    "C(x) = \\frac{R}{2D}x^2 + C_1x + C_2\n",
    "$$\n",
    "\n",
    "where  $C_2$  is another integration constant.\n",
    "\n"
   ]
  },
  {
   "cell_type": "markdown",
   "id": "ed918be4-eac1-4838-bc50-2a49a5e6496a",
   "metadata": {},
   "source": [
    "## Apply Boundary Conditions\n",
    "\n",
    "To determine the constants  $C_1$  and  $C_2$ , we apply the boundary conditions:\n",
    "1.  $\\frac{dC}{dx}(0) = 0$  (no flux at  x = 0 ),\n",
    "2.  $C(L) = C_0$ (concentration at  x = L  is  C_0 ).\n",
    "\n",
    "###Applying  $\\frac{dC}{dx}(0) = 0$ :\n",
    "\n",
    "$$\n",
    "\\frac{dC}{dx} = \\frac{R}{D}x + C_1\n",
    "$$\n",
    "\n",
    "At  x = 0 :\n",
    "\n",
    "$$\n",
    "\\frac{R}{D} \\cdot 0 + C_1 = 0 \\quad \\Rightarrow \\quad C_1 = 0\n",
    "$$\n",
    "\n",
    "So the solution simplifies to:\n",
    "\n",
    "$$\n",
    "C(x) = \\frac{R}{2D}x^2 + C_2\n",
    "$$\n",
    "\n",
    "### Applying  $C(L) = C_0$ :\n",
    "\n",
    "At  x = L :\n",
    "\n",
    "$$\n",
    "C_0 = \\frac{R}{2D}L^2 + C_2\n",
    "$$\n",
    "\n",
    "Solving for  C_2 :\n",
    "\n",
    "$$\n",
    "C_2 = C_0 - \\frac{R}{2D}L^2\n",
    "$$\n",
    "\n",
    "Thus, the steady-state solution is:\n",
    "\n",
    "$$\n",
    "C(x) = \\frac{R}{2D}x^2 + C_0 - \\frac{R}{2D}L^2\n",
    "$$\n"
   ]
  },
  {
   "cell_type": "markdown",
   "id": "554aea39-2c75-4cc5-9b8a-9e17711f7c7c",
   "metadata": {},
   "source": [
    "## Non-Dimensionalization\n",
    "The equation above is correct, but doesn't give us much insight into how the important parameters (thickness of dermagraft, concentration of oxygen in media, diffusion constant, and reaction rate) control diffusion. Non-dimensional analysis can be very useful for this. \n",
    "\n",
    "To non-dimensionalize the equation, we introduce dimensionless variables:\n",
    "-  $\\xi = \\frac{x}{L}$  (dimensionless spatial coordinate),\n",
    "-  $\\frac{C(x)}{C_0}$  (dimensionless concentration).\n",
    "\n",
    "Substituting these into the solution:\n",
    "\n",
    "$$\n",
    "\\frac{C(x)}{C_0} = \\frac{\\frac{R}{2D}x^2 + C_0 - \\frac{R}{2D}L^2}{C_0}\n",
    "$$\n",
    "\n",
    "Simplifying:\n",
    "\n",
    "$$\n",
    "\\frac{C(x)}{C_0} = 1 - \\frac{R L^2}{2D C_0} \\left( 1 - \\left(\\frac{x}{L}\\right)^2 \\right)\n",
    "$$"
   ]
  },
  {
   "cell_type": "markdown",
   "id": "3f0980b4-b6f2-43e8-88fd-40717c464d47",
   "metadata": {},
   "source": [
    "## Define Dimensionless Parameter\n",
    "\n",
    "We can define a dimensionless parameter Thiele as:\n",
    "\n",
    "$$\n",
    "Thiele = \\frac{R L^2}{2D C_0}\n",
    "$$\n",
    "\n",
    "And re-write the equation in non-dimensional form:\n",
    "\n",
    "$$\n",
    "\\frac{C(x)}{C_0} = 1 - Thiele \\left( 1 - \\left(\\frac{x}{L}\\right)^2 \\right)\n",
    "$$\n"
   ]
  }
 ],
 "metadata": {
  "kernelspec": {
   "display_name": "Python 3 (ipykernel)",
   "language": "python",
   "name": "python3"
  },
  "language_info": {
   "codemirror_mode": {
    "name": "ipython",
    "version": 3
   },
   "file_extension": ".py",
   "mimetype": "text/x-python",
   "name": "python",
   "nbconvert_exporter": "python",
   "pygments_lexer": "ipython3",
   "version": "3.9.19"
  }
 },
 "nbformat": 4,
 "nbformat_minor": 5
}
