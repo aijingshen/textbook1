{
 "cells": [
  {
   "cell_type": "markdown",
   "id": "8fa73984-5c99-45d8-9f98-fd110c7cd2b2",
   "metadata": {},
   "source": [
    "# Fick's Second Law"
   ]
  },
  {
   "cell_type": "markdown",
   "id": "c77b16dd-896c-44af-88b7-9814bcf3bbfa",
   "metadata": {},
   "source": [
    "Fick's first law tells us that Flux $\\propto$ concentration gradient. This makes sense - molecules tend to move from high concentrations to low concentrations. \n",
    "\n",
    "Imagine a cup full of water. You place a small drop of food coloring in the center of the water and don't mix. Over time you can watch the food color slowly spreading through the entire cup. If you come back in the morning, the dye will be all one (lighter) color. This was due to diffusion, and not due to the movement of the liquid itself (provided you didn't swirl the cup. If you swirled the cup, you would have been causing a different type of mass transport called **Advection**. \n"
   ]
  },
  {
   "cell_type": "markdown",
   "id": "71ea5cee-92a5-4bc9-8437-418f3da117d5",
   "metadata": {},
   "source": [
    "What we really would like to know is how the concentration changes in our system. We need to perform a mass balance, taking into account all the different fluxes (Js) that enter and exit our system. In our case, the only J comes from diffusion, but in many other cases, there are other types of processes that move mass, including:\n",
    "\n",
    "- Advective\n",
    "- Electrophoretic\n",
    "- Gravitational\n",
    "- Osmotic\n",
    "- etc"
   ]
  },
  {
   "cell_type": "markdown",
   "id": "599bc526-2aae-498c-a96b-235a6c1fe130",
   "metadata": {},
   "source": [
    "Let's consider a packet of fluid that has volume $\\Delta x \\times \\Delta y \\times \\Delta z$\n",
    "\n",
    "![ficks](../../../../images/ficks2.png)\n",
    "\n",
    "The change in mass per unit time can be written as the mass in minus the mass  \n",
    "\n",
    "$$\n",
    "\\dot{m}= \\text{change mass} =\\dot{m}_{in} -\\dot{m}_{out}\n",
    "$$"
   ]
  },
  {
   "cell_type": "markdown",
   "id": "7fbbed32-ea62-4c6f-8954-9982d65514b6",
   "metadata": {},
   "source": [
    "In the control volume, the change in mass is:\n",
    "\n",
    "$$\n",
    "\\dot{m}=\\frac{\\Delta c \\times V}{\\Delta t} = \\frac{\\Delta c \\Delta x \\Delta y \\Delta z}{\\Delta t}\n",
    "$$\n",
    "\n",
    "where: \n",
    "- c is the concentration (molecules per volume, moles/L)\n",
    "- t is the time\n",
    "- V is the volume = $\\Delta x \\Delta y \\Delta z$"
   ]
  },
  {
   "cell_type": "markdown",
   "id": "f56dadee-63a9-49c1-93a3-07c21c414bb5",
   "metadata": {},
   "source": [
    "This is due to the Flux in minus the Flux out: \n",
    "\n",
    "$$\n",
    "\\dot{m}_{in} -\\dot{m}_{out} = J_x \\times \\text{Area} - J_{x+\\Delta x} \\times \\text{Area}\n",
    "$$\n",
    "\n",
    "In this case, the Area is the plane perpendicular to the Flux, $\\Delta y \\Delta z$\n",
    "\n",
    "$$\n",
    "\\dot{m}_{in} -\\dot{m}_{out} = (J_x - J_{x+\\Delta x})\\Delta y \\Delta z \n",
    "$$\n"
   ]
  },
  {
   "cell_type": "markdown",
   "id": "6d44a943-201d-4b46-aea2-473d31387294",
   "metadata": {},
   "source": [
    "$J_{x+\\Delta x}$ can be approximated using a Taylor series expansion as:\n",
    "    \n",
    "$$\n",
    "J_{x+\\Delta x}=J_{x}+\\frac{d J}{d x} \\Delta x+\\frac{d^{2} J}{d x^{2}} \\Delta x^{2}+\\ldots \\text{Higher Order Terms}\\\\\n",
    "$$"
   ]
  },
  {
   "cell_type": "markdown",
   "id": "4796d0d6-4d2d-4553-9184-fa40e3b7381e",
   "metadata": {},
   "source": [
    "Let's set up the entire equation\n",
    "\n",
    "$$ \\frac{\\Delta c \\Delta x \\Delta y \\Delta z}{\\Delta t} = \n",
    "\\left[J_{x}-\\left(J_{x}+\\frac{d J}{d x} \\Delta x+\\frac{d^{2} J}{d x^{2}} \\Delta x^{2}+\\ldots \\text{Higher Order Terms}\n",
    "\\right)\\right]\\Delta y \\Delta z\n",
    "$$"
   ]
  },
  {
   "cell_type": "markdown",
   "id": "632f2167-ff43-4347-be9b-12ddbac946dc",
   "metadata": {},
   "source": [
    "$$\n",
    "\\frac{\\Delta c}{\\Delta t}=-\\left[ \\frac{d J}{d x} \\Delta x+\\frac{d J}{d x^{2}} \\Delta x^{2}+\\ldots \\right]\n",
    "$$\n"
   ]
  },
  {
   "cell_type": "markdown",
   "id": "0e8d19e0-eb72-470d-98b1-feda66b38793",
   "metadata": {},
   "source": [
    "The last step is to use the J from Fick's First law. Plugging  \n",
    "\n",
    "$$\n",
    "J=-D \\frac{\\partial c}{\\partial x} \n",
    "$$\n",
    "\n",
    "into \n",
    "\n",
    "$$\n",
    "\\frac{\\partial c}{\\partial t} = - \\frac{\\partial J}{\\partial x}\n",
    "$$\n",
    "\n",
    "gives\n",
    "\n"
   ]
  },
  {
   "cell_type": "markdown",
   "id": "4b661c3d-1dcf-4615-a907-4e896c142e29",
   "metadata": {},
   "source": [
    "```{admonition} Flick's $2^{\\text {nd }}$ Law\n",
    "\n",
    "\n",
    "So now we have an expression that tells us the relationship between concentration, time, and distance. We can use this to find the concentration profile in our Dermagratt.\n",
    "\n",
    "$$\n",
    "\\frac{\\partial c}{\\partial t}=D\\frac{\\partial^{2} c}{\\partial x^{2}}\n",
    "$$\n",
    "\n",
    "```"
   ]
  },
  {
   "cell_type": "code",
   "execution_count": null,
   "id": "f1a2c009-af9e-46f4-93ff-e95fe8e1d4ad",
   "metadata": {},
   "outputs": [],
   "source": []
  },
  {
   "cell_type": "code",
   "execution_count": null,
   "id": "27570ae2-9479-4d57-9ae4-c898c13f6f1f",
   "metadata": {},
   "outputs": [],
   "source": []
  },
  {
   "cell_type": "code",
   "execution_count": null,
   "id": "c5bc5306-c4f5-4b0c-aec2-fabbc570b7d3",
   "metadata": {},
   "outputs": [],
   "source": []
  }
 ],
 "metadata": {
  "kernelspec": {
   "display_name": "Python 3 (ipykernel)",
   "language": "python",
   "name": "python3"
  },
  "language_info": {
   "codemirror_mode": {
    "name": "ipython",
    "version": 3
   },
   "file_extension": ".py",
   "mimetype": "text/x-python",
   "name": "python",
   "nbconvert_exporter": "python",
   "pygments_lexer": "ipython3",
   "version": "3.9.19"
  }
 },
 "nbformat": 4,
 "nbformat_minor": 5
}
