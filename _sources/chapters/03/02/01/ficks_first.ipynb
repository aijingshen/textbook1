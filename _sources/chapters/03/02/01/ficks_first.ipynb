{
 "cells": [
  {
   "cell_type": "markdown",
   "id": "8c1eb0e0-89c8-4847-aae2-7ca5940f799e",
   "metadata": {},
   "source": [
    "# Ficks law of diffusion in 1-D"
   ]
  },
  {
   "cell_type": "markdown",
   "id": "7dd1c5a1-57a1-4809-a30c-a8583acc0497",
   "metadata": {},
   "source": [
    "## Flux"
   ]
  },
  {
   "cell_type": "markdown",
   "id": "c115e4c8-e17b-4899-b096-59d086db7c54",
   "metadata": {},
   "source": [
    "We are interested in how diffusion causes molecules to move. We therefore are interested in something called **Flux**.  Flux is the molecules (or mass) that pass through the plane in a given amount of time. . "
   ]
  },
  {
   "cell_type": "markdown",
   "id": "4d717423-364d-4cbc-bde3-67392e5158d7",
   "metadata": {},
   "source": [
    "Imagine a 2D plane. On the left side, there are a certain number of molecules N(x), and on the right side there are a different number of molecules. By random motion, after a certain amount of time, some molecules with cross through the plan, resulting in a net flux. \n",
    "\n",
    "![ficks](../../../../images/flux.png)"
   ]
  },
  {
   "cell_type": "markdown",
   "id": "e0bda002-0a3a-496d-9241-d7a40876f3b8",
   "metadata": {},
   "source": [
    "## Flux due to random movement of molecules"
   ]
  },
  {
   "cell_type": "markdown",
   "id": "ae7579cb-d61b-4dee-a4c0-119996c5b62a",
   "metadata": {},
   "source": [
    "Let's denote Flux as \"J.\" If we assume that the molecules are moving by random motion on each side of the plane, 50% will stay, and 50% will jump. Therefore: \n",
    "\n",
    "$$\n",
    "J =  \\left(\\frac{ 0.5 N(x) - 0.5 N(x + \\Delta x)}{A\\Delta t} \\right)\n",
    "$$\n",
    "\n",
    "where: \n",
    "- $N(x)$ is the number of molecules at position x\n",
    "- $N(x+\\Delta x)$ is the number of molecules at position $x+\\Delta x$\n",
    "- t is the time\n",
    "\n"
   ]
  },
  {
   "cell_type": "markdown",
   "id": "d92d9c83-f871-4f14-b2df-2506d0e5e275",
   "metadata": {},
   "source": [
    "We can modify this to be in terms of concentration, which has units of molecules per volume. The concentration is given by:\n",
    "\n",
    "$$\n",
    "\\text{Concentration} = \\frac{\\text{molecules}}{\\text{volume}} = \\frac{N(x)}{A \\Delta x}\n",
    "$$\n",
    "\n",
    "The number of molecules is:\n",
    "\n",
    "$$\n",
    "N(x) = C \\cdot A \\cdot \\Delta x\n",
    "$$\n",
    "\n",
    "Plugging this in to our equation for flux J\n",
    "\n",
    "$$\n",
    "J = \\frac{1}{A} \\left( \\frac{C(x) A \\cdot \\Delta x - C(x + \\Delta x) A \\Delta x}{2 \\Delta t} \\right)\n",
    "$$\n"
   ]
  },
  {
   "cell_type": "markdown",
   "id": "7c29b364-09f9-48a7-add6-53381e515b69",
   "metadata": {},
   "source": [
    "Simplifying, we get:\n",
    "\n",
    "$$\n",
    "J = \\frac{\\Delta x^{2}}{2 \\Delta t} \\left( \\frac{C(x) - C(x + \\Delta x)}{\\Delta x} \\right)\n",
    "$$\n",
    "\n",
    "Or alternatively:\n",
    "\n",
    "$$\n",
    "J = -\\frac{\\Delta x^{2}}{2 \\Delta t} \\left[ \\frac{C(x + \\Delta x) - C(x)}{\\Delta x} \\right]\n",
    "$$\n",
    "\n",
    "Notice that this is the first derivative of C with respect to x as $\\Delta x$ gets small\n",
    "\n",
    "$$\n",
    "\\lim_{\\Delta x \\to 0}  \\frac{C(x + \\Delta x) - C(x)}{\\Delta x}  = \\frac{d C}{d x}\n",
    "$$\n"
   ]
  },
  {
   "attachments": {},
   "cell_type": "markdown",
   "id": "d14de784-f649-4e60-a804-c8bb7a5b351e",
   "metadata": {},
   "source": [
    "...and as $\\Delta t \\rightarrow 0$ and $\\Delta x \\rightarrow 0$ \n",
    "\n",
    "$$\n",
    "\\lim_{\\Delta x \\to 0 , \\Delta t \\to 0} \\frac{\\Delta x^{2}}{2 \\Delta t}= D \n",
    "$$\n",
    "\n",
    "\n",
    "```{admonition} Fick's 1st Law\n",
    "\n",
    "Finally, we arrive at our final equation for flux: \n",
    " \n",
    "$$\n",
    "J = -D \\frac{d C}{d x}\n",
    "$$\n",
    "This is called **Fick's 1st Law**. It applies to diffusion in a lot of different contexts, and has an equivalent in Heat Transfer. \n",
    "\n",
    "```\n"
   ]
  },
  {
   "cell_type": "markdown",
   "id": "bf62d750-0dfc-477d-9770-f956cf062ea4",
   "metadata": {},
   "source": [
    "D is the Diffusion Constant, which depends on the molecule and fluid it is in.  \n",
    "\n",
    "What are the units of the Diffusion constant?\n",
    "\n",
    "$$\n",
    "\\frac{\\text { moles }}{m^{2} \\cdot s} \\equiv \\left(\\frac{\\text { moles }}{m^{3}} \\frac{1}{m}\\right)\\left(\\frac{m^{2}}{s}\\right)\n",
    "$$"
   ]
  },
  {
   "cell_type": "code",
   "execution_count": null,
   "id": "bfc17f43-b697-4e58-9ddd-a01afbc53e35",
   "metadata": {},
   "outputs": [],
   "source": []
  }
 ],
 "metadata": {
  "kernelspec": {
   "display_name": "Python 3 (ipykernel)",
   "language": "python",
   "name": "python3"
  },
  "language_info": {
   "codemirror_mode": {
    "name": "ipython",
    "version": 3
   },
   "file_extension": ".py",
   "mimetype": "text/x-python",
   "name": "python",
   "nbconvert_exporter": "python",
   "pygments_lexer": "ipython3",
   "version": "3.9.19"
  }
 },
 "nbformat": 4,
 "nbformat_minor": 5
}
